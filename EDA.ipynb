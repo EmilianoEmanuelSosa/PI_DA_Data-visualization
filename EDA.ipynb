{
 "cells": [
  {
   "attachments": {},
   "cell_type": "markdown",
   "metadata": {},
   "source": [
    "# EDA\n",
    "\n",
    "---\n",
    "\n",
    "### 1. Problema de Negocio:\n",
    "\n",
    "- Me ha sido asignada la tarea de realizar un análisis completo que me permita reconocer el comportamiento del sector de las telecomunicaciones a nivel nacional. La empresa para la que trabajo es una prestadora de servicios de telecomunicaciones, y su principal actividad es brindar acceso a internet. Sin embargo, también es importante tener en cuenta el comportamiento asociado a los demás servicios de comunicación.\n",
    "\n",
    "- El objetivo de este análisis es orientar a la empresa en la mejora de la calidad de sus servicios, identificar oportunidades de crecimiento y poder ofrecer soluciones personalizadas a los posibles clientes. Para lograr esto, debo examinar detalladamente el mercado de las telecomunicaciones a nivel nacional, considerando factores como la demanda de servicios de internet, telefonía, televisión y otros servicios de comunicación.\n",
    "\n",
    "- Será necesario recopilar datos relevantes sobre el comportamiento de los consumidores, las tendencias del mercado, la competencia y las regulaciones vigentes en el sector. A partir de esta información, podré realizar un análisis exhaustivo que me permita identificar patrones, tendencias y oportunidades que ayuden a la empresa a tomar decisiones estratégicas informadas.\n",
    "\n",
    "- Mi objetivo final es proporcionar a la empresa recomendaciones sólidas y basadas en evidencia para mejorar la calidad de sus servicios, captar nuevos clientes y optimizar su crecimiento en el mercado de las telecomunicaciones.\n"
   ]
  },
  {
   "attachments": {},
   "cell_type": "markdown",
   "metadata": {},
   "source": [
    "### 2. El set de datos despues de la limpieza\n"
   ]
  },
  {
   "attachments": {},
   "cell_type": "markdown",
   "metadata": {},
   "source": [
    "- Previamente se agruparon todos los datasets en 3 csv. Con unas dimensiones de: (4453x27), (1391, 103) y (1391, 103) cuyos nombres son: Analysis_geo_cuant, Analysis_geo_global y Analysis_geo_temp respectivamente.\n"
   ]
  },
  {
   "attachments": {},
   "cell_type": "markdown",
   "metadata": {},
   "source": [
    "#### 2.1 Descripcion de los campos de los datasets:\n",
    "\n",
    "##### **`Analysis_geo_cuant`**\n",
    "\n",
    "1. \"Año\" (Object): El año en el que se registró la información.\n",
    "2. \"Trimestre\" (Object): El trimestre al que corresponde la información.\n",
    "3. \"ADSL\" (Int): El número de conexiones de internet a través de ADSL.\n",
    "4. \"Cablemodem\" (Int): El número de conexiones de internet a través de cablemódem.\n",
    "5. \"Fibra óptica\" (Int): El número de conexiones de internet a través de fibra óptica.\n",
    "6. \"Wireless\" (Int): El número de conexiones de internet inalámbricas.\n",
    "7. \"Otros\" (Int): El número de conexiones de internet de otros tipos.\n",
    "8. \"Total\" (Int): El total de conexiones de internet en el período especificado.\n",
    "9. \"Periodo\" (Object): El período de tiempo al que corresponde la información.\n",
    "10. \"Velocidad (Mbps)\" (Object): La velocidad de conexión a internet en Mbps.\n",
    "11. \"OTROS\" (Int): El número de conexiones de internet de otros tipos.\n",
    "12. \"Banda ancha fija\" (Int): El número de conexiones de internet de banda ancha fija.\n",
    "13. \"Dial up\" (Int): El número de conexiones de internet a través de acceso telefónico (Dial-up).\n",
    "14. \"Provincia\" (Object): El nombre de la provincia correspondiente a la ubicación de la conexión.\n",
    "15. \"Partido\" (Object): El nombre del partido o distrito correspondiente a la ubicación de la conexión.\n",
    "16. \"Localidad\" (Object): El nombre de la localidad correspondiente a la ubicación de la conexión.\n",
    "17. \"4G\" (Int): El número de conexiones de telefonía móvil de cuarta generación (4G).\n",
    "18. \"3G\" (Int): El número de conexiones de telefonía móvil de tercera generación (3G).\n",
    "19. \"TELEFONIAFIJA\" (Int): El número de líneas telefónicas fijas.\n",
    "20. \"SATELITAL\" (Int): El número de conexiones de internet satelital.\n",
    "\n",
    "##### **`Analysis_geo_Global`**\n",
    "\n",
    "1. \"Año\" (Object): El año en el que se registró la información.\n",
    "2. \"Trimestre\" (Object): El trimestre al que corresponde la información.\n",
    "3. \"Provincia\" (Object): El nombre de la provincia correspondiente a la ubicación de la conexión.\n",
    "4. \"Otros\" (Int): El número de conexiones de internet de otros tipos.\n",
    "5. \"Trimestre.1\" (Object): El trimestre al que corresponde la información.\n",
    "6. \"Ingresos (miles de pesos)\" (Object): Los ingresos en miles de pesos.\n",
    "7. \"Periodo\" (Object): El período de tiempo al que corresponde la información.\n",
    "8. \"Accesos por cada 100 hogares\" (Object): El número de accesos a internet por cada 100 hogares.\n",
    "\n",
    "##### **`Analysis_geo_temp`**\n",
    "\n",
    "1. \"Año\" (Object): El año en el que se registró la información.\n",
    "2. \"Trimestre\" (Object): El trimestre al que corresponde la información.\n",
    "3. \"Provincia\" (Object): El nombre de la provincia correspondiente a la ubicación de la conexión.\n",
    "4. \"Otros\" (Int): El número de conexiones de internet de otros tipos.\n",
    "5. \"Trimestre.1\" (Object): El trimestre al que corresponde la información.\n",
    "6. \"Ingresos (miles de pesos)\" (Object): Los ingresos en miles de pesos.\n",
    "7. \"Periodo\" (Object): El período de tiempo al que corresponde la información.\n",
    "8. \"Accesos por cada 100 hogares\" (Object): El número de accesos a internet por cada 100 hogares.\n"
   ]
  },
  {
   "attachments": {},
   "cell_type": "markdown",
   "metadata": {},
   "source": [
    "#### 3. Lectura de los Datasets:\n"
   ]
  },
  {
   "cell_type": "code",
   "execution_count": null,
   "metadata": {},
   "outputs": [],
   "source": [
    "import pandas as pd\n",
    "import matplotlib.pyplot as plt\n",
    "import seaborn as sns\n",
    "from nltk.corpus import stopwords\n",
    "from wordcloud import WordCloud\n",
    "from display_utils import display_scrollable_dataframe"
   ]
  },
  {
   "cell_type": "code",
   "execution_count": 3,
   "metadata": {},
   "outputs": [],
   "source": [
    "df_Analysis_geo_cuant=pd.read_csv('Datasets/Data_proceses/Analysis_geo_cuant.csv')\n",
    "df_Analysis_geo_global=pd.read_csv('Datasets/Data_proceses/Analysis_geo_global.csv')\n",
    "df_Analysis_geo_temp=pd.read_csv('Datasets/Data_proceses/Analysis_geo_temp.csv')"
   ]
  },
  {
   "cell_type": "code",
   "execution_count": null,
   "metadata": {},
   "outputs": [],
   "source": [
    "(df_Analysis_geo_cuant.head(100))"
   ]
  },
  {
   "cell_type": "code",
   "execution_count": null,
   "metadata": {},
   "outputs": [],
   "source": [
    "(df_Analysis_geo_global.head(100))"
   ]
  },
  {
   "cell_type": "code",
   "execution_count": null,
   "metadata": {},
   "outputs": [],
   "source": [
    "(df_Analysis_geo_temp.head(100))"
   ]
  },
  {
   "attachments": {},
   "cell_type": "markdown",
   "metadata": {},
   "source": [
    "- 3.1 Heatmap\n"
   ]
  },
  {
   "cell_type": "code",
   "execution_count": null,
   "metadata": {},
   "outputs": [],
   "source": []
  }
 ],
 "metadata": {
  "kernelspec": {
   "display_name": "Python 3",
   "language": "python",
   "name": "python3"
  },
  "language_info": {
   "codemirror_mode": {
    "name": "ipython",
    "version": 3
   },
   "file_extension": ".py",
   "mimetype": "text/x-python",
   "name": "python",
   "nbconvert_exporter": "python",
   "pygments_lexer": "ipython3",
   "version": "3.11.3"
  },
  "orig_nbformat": 4
 },
 "nbformat": 4,
 "nbformat_minor": 2
}
