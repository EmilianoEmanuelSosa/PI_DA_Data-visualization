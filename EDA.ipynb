{
 "cells": [
  {
   "attachments": {},
   "cell_type": "markdown",
   "metadata": {},
   "source": [
    "# EDA\n",
    "---\n",
    "\n",
    "### 1. Problema de Negocio:\n",
    "+ Me ha sido asignada la tarea de realizar un análisis completo que me permita reconocer el comportamiento del sector de las telecomunicaciones a nivel nacional. La empresa para la que trabajo es una prestadora de servicios de telecomunicaciones, y su principal actividad es brindar acceso a internet. Sin embargo, también es importante tener en cuenta el comportamiento asociado a los demás servicios de comunicación.\n",
    "\n",
    "+ El objetivo de este análisis es orientar a la empresa en la mejora de la calidad de sus servicios, identificar oportunidades de crecimiento y poder ofrecer soluciones personalizadas a los posibles clientes. Para lograr esto, debo examinar detalladamente el mercado de las telecomunicaciones a nivel nacional, considerando factores como la demanda de servicios de internet, telefonía, televisión y otros servicios de comunicación.\n",
    "\n",
    "+ Será necesario recopilar datos relevantes sobre el comportamiento de los consumidores, las tendencias del mercado, la competencia y las regulaciones vigentes en el sector. A partir de esta información, podré realizar un análisis exhaustivo que me permita identificar patrones, tendencias y oportunidades que ayuden a la empresa a tomar decisiones estratégicas informadas.\n",
    "\n",
    "+ Mi objetivo final es proporcionar a la empresa recomendaciones sólidas y basadas en evidencia para mejorar la calidad de sus servicios, captar nuevos clientes y optimizar su crecimiento en el mercado de las telecomunicaciones."
   ]
  },
  {
   "cell_type": "code",
   "execution_count": null,
   "metadata": {},
   "outputs": [],
   "source": [
    "import pandas as pd"
   ]
  },
  {
   "cell_type": "code",
   "execution_count": null,
   "metadata": {},
   "outputs": [],
   "source": [
    "# Se descargan archivos csv a asociados al \n",
    "Acceso_internet_fijo_velocidadbajada_provincia=pd.read_csv('Datasets/Data_ingested/Accesos_a_Internet_fijo_por_velocidad_bajada_y_provincia.csv', encoding='utf-8')\n",
    "Acceso_internet_fijo_velocidadbajada_localidad=pd.read_csv('Datasets/Data_ingested/Accesos_a_Internet_fijo_por_velocidad_de_bajada_y_localidad.csv', encoding='utf-8')\n",
    "Conectividad_Servicio_Internet=pd.read_csv('Datasets/Data_ingested/Conectividad_al_servicio_de_Internet.csv', encoding='utf-8')\n",
    "Internet_Accesos_por_tecnologia=pd.read_csv('Datasets/Data_ingested/Internet_Accesos-por-tecnologia.csv', encoding='utf-8')\n",
    "Internet_Accesos_velocidad=pd.read_csv('Datasets/Data_ingested/Internet_Accesos-por-velocidad.csv', encoding='utf-8')\n",
    "Internet_BAF=pd.read_csv('Datasets/Data_ingested/Internet_BAF.csv', encoding='utf-8')\n",
    "Internet_ingresos = pd.read_csv('Datasets/Data_ingested/Internet_Penetracion.csv', encoding='utf-8')\n",
    "Internet_Penetracion = pd.read_csv('Datasets/Data_ingested/Internet_Penetracion.csv', encoding='utf-8')\n",
    "Listado_localidades_conectividad_internet=pd.read_csv('Datasets/Data_ingested/Listado_de_localidades_con_conectividad_a_internet.csv', encoding='utf-8')\n",
    "velocidadInternet_anio = pd.read_csv('Datasets/Data_ingested/velocidad_internet_promedio.csv', encoding='utf-8')"
   ]
  }
 ],
 "metadata": {
  "language_info": {
   "name": "python"
  },
  "orig_nbformat": 4
 },
 "nbformat": 4,
 "nbformat_minor": 2
}
