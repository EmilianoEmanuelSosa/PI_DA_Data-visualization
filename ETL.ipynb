{
 "cells": [
  {
   "attachments": {},
   "cell_type": "markdown",
   "metadata": {},
   "source": [
    "# Transfomaciones de los datos\n",
    "---"
   ]
  },
  {
   "attachments": {},
   "cell_type": "markdown",
   "metadata": {},
   "source": [
    "### Se importan librerías a usar"
   ]
  },
  {
   "cell_type": "code",
   "execution_count": 19,
   "metadata": {},
   "outputs": [],
   "source": [
    "import pandas as pd\n",
    "import numpy as np\n",
    "import matplotlib.pyplot as plt"
   ]
  },
  {
   "attachments": {},
   "cell_type": "markdown",
   "metadata": {},
   "source": [
    "### Carga de los Datasets"
   ]
  },
  {
   "cell_type": "code",
   "execution_count": 60,
   "metadata": {},
   "outputs": [],
   "source": [
    "# Lectura de los Csv\n",
    "Acceso_internet_fijo_velocidadbajada_provincia=pd.read_csv('Datasets/Data_ingested/Accesos_a_Internet_fijo_por_velocidad_bajada_y_provincia.csv', encoding='utf-8')\n",
    "Acceso_internet_fijo_velocidadbajada_localidad=pd.read_csv('Datasets/Data_ingested/Accesos_a_Internet_fijo_por_velocidad_de_bajada_y_localidad.csv', encoding='utf-8')\n",
    "Conectividad_Servicio_Internet=pd.read_csv('Datasets/Data_ingested/Conectividad_al_servicio_de_Internet.csv', encoding='utf-8')\n",
    "Internet_Accesos_por_tecnologia=pd.read_csv('Datasets/Data_ingested/Internet_Accesos-por-tecnologia.csv', encoding='utf-8')\n",
    "Internet_Accesos_velocidad=pd.read_csv('Datasets/Data_ingested/Internet_Accesos-por-velocidad.csv', encoding='utf-8')\n",
    "Internet_BAF=pd.read_csv('Datasets/Data_ingested/Internet_BAF.csv', encoding='utf-8')\n",
    "Internet_ingresos = pd.read_csv('Datasets/Data_ingested/Internet_Penetracion.csv', encoding='utf-8')\n",
    "Internet_Penetracion = pd.read_csv('Datasets/Data_ingested/Internet_Penetracion.csv', encoding='utf-8')\n",
    "Listado_localidades_conectividad_internet=pd.read_csv('Datasets/Data_ingested/Listado_de_localidades_con_conectividad_a_internet.csv', encoding='utf-8')\n",
    "velocidadInternet_anio = pd.read_csv('Datasets/Data_ingested/velocidad_internet_promedio.csv', encoding='utf-8')\n",
    "\n",
    "#nombres de los dataframes para accederlos mas facilmente\n",
    "names_dataframes = ['Acceso_internet_fijo_velocidad_bajada_provincia', 'Acceso_internet_fijo_velocidad_bajada_localidad', 'Conectividad_Servicio_Internet', 'Internet_Accesos_por_tecnologia',\n",
    "'Internet_Accesos_velocidad', 'Internet_BAF', 'Internet_ingresos', 'Internet_Penetracion', 'Listado_localidades_conectividad_internet', 'velocidadInternet_anio']"
   ]
  },
  {
   "attachments": {},
   "cell_type": "markdown",
   "metadata": {},
   "source": [
    "####  Voy a incurrir en un analisis especifico para cuantificar la cantidad de nulos y establecere un porcentaje maximo de estos. De un 60% ya que al tener un plazo reducido de tiempo,se necesita rapidez"
   ]
  },
  {
   "cell_type": "code",
   "execution_count": 70,
   "metadata": {},
   "outputs": [
    {
     "name": "stdout",
     "output_type": "stream",
     "text": [
      "Acceso_internet_fijo_velocidad_bajada_provincia tiene un:  0.0 % de nulos\n",
      "Acceso_internet_fijo_velocidad_bajada_localidad tiene un:  0.0 % de nulos\n",
      "Conectividad_Servicio_Internet tiene un:  0.0 % de nulos\n",
      "Internet_Accesos_por_tecnologia tiene un:  0.0 % de nulos\n",
      "Internet_Accesos_velocidad tiene un:  0.0 % de nulos\n",
      "Internet_BAF tiene un:  0.0 % de nulos\n",
      "Internet_ingresos tiene un:  0.0 % de nulos\n",
      "Internet_Penetracion tiene un:  0.0 % de nulos\n",
      "Listado_localidades_conectividad_internet tiene un:  0.0 % de nulos\n",
      "velocidadInternet_anio tiene un:  0.0 % de nulos\n"
     ]
    }
   ],
   "source": [
    "# Identificar los registros del DataFrame\n",
    "registros = Acceso_internet_fijo_velocidadbajada_provincia.shape[0]\n",
    "\n",
    "# Obtener la cantidad total de registros nulos en el DataFrame\n",
    "registros_nulos = Acceso_internet_fijo_velocidadbajada_provincia.isnull().sum().sum()\n",
    "# obtener el porcentaje de nulos en el dataframe\n",
    "percent_of_nulls = round((registros_nulos / registros),0)\n",
    "\n",
    "print(names_dataframes[0],'tiene un: ',percent_of_nulls,'% de nulos')\n",
    "\n",
    "# Identificar los registros del DataFrame\n",
    "registros1 = Acceso_internet_fijo_velocidadbajada_localidad.shape[0]\n",
    "registros_nulos1 = Acceso_internet_fijo_velocidadbajada_localidad.isnull().sum().sum()\n",
    "percent_of_nulls1 = round((registros_nulos / registros),0)\n",
    "print(names_dataframes[1],'tiene un: ',percent_of_nulls1,'% de nulos')\n",
    "\n",
    "\n",
    "# Identificar los registros del DataFrame\n",
    "registros2 = Conectividad_Servicio_Internet.shape[0]\n",
    "registros_nulos2 = Conectividad_Servicio_Internet.isnull().sum().sum()\n",
    "percent_of_nulls2= round((registros_nulos / registros),0)\n",
    "print(names_dataframes[2],'tiene un: ',percent_of_nulls2,'% de nulos')\n",
    "\n",
    "\n",
    "# Identificar los registros del DataFrame\n",
    "registros3 = Internet_Accesos_por_tecnologia.shape[0]\n",
    "registros_nulos3 = Internet_Accesos_por_tecnologia.isnull().sum().sum()\n",
    "percent_of_nulls3 = round((registros_nulos / registros),0)\n",
    "print(names_dataframes[3],'tiene un: ',percent_of_nulls3,'% de nulos')\n",
    "\n",
    "\n",
    "# Identificar los registros del DataFrame\n",
    "registros4 = Internet_Accesos_velocidad.shape[0]\n",
    "registros_nulos4 = Internet_Accesos_velocidad.isnull().sum().sum()\n",
    "percent_of_nulls4 = round((registros_nulos / registros),0)\n",
    "print(names_dataframes[4],'tiene un: ',percent_of_nulls4,'% de nulos')\n",
    "\n",
    "\n",
    "# Identificar los registros del DataFrame\n",
    "registros5 = Internet_BAF.shape[0]\n",
    "registros_nulos5 = Internet_BAF.isnull().sum().sum()\n",
    "percent_of_nulls5 = round((registros_nulos / registros),0)\n",
    "print(names_dataframes[5],'tiene un: ',percent_of_nulls5,'% de nulos')\n",
    "\n",
    "\n",
    "\n",
    "# Identificar los registros del DataFrame\n",
    "registros6 = Internet_ingresos.shape[0]\n",
    "registros_nulos6 = Internet_ingresos.isnull().sum().sum()\n",
    "percent_of_nulls6 = round((registros_nulos / registros),0)\n",
    "print(names_dataframes[6],'tiene un: ',percent_of_nulls6,'% de nulos')\n",
    "\n",
    "\n",
    "\n",
    "# Identificar los registros del DataFrame\n",
    "registros7 = Internet_Penetracion.shape[0]\n",
    "registros_nulos7 = Internet_Penetracion.isnull().sum().sum()\n",
    "percent_of_nulls7 = round((registros_nulos / registros),0)\n",
    "print(names_dataframes[7],'tiene un: ',percent_of_nulls7,'% de nulos')\n",
    "\n",
    "\n",
    "\n",
    "# Identificar los registros del DataFrame\n",
    "registros8 = Listado_localidades_conectividad_internet.shape[0]\n",
    "registros_nulos8 = Listado_localidades_conectividad_internet.isnull().sum().sum()\n",
    "percent_of_nulls8 = round((registros_nulos / registros),0)\n",
    "print(names_dataframes[8],'tiene un: ',percent_of_nulls8,'% de nulos')\n",
    "\n",
    "\n",
    "# Identificar los registros del DataFrame\n",
    "registros9 = velocidadInternet_anio.shape[0]\n",
    "registros_nulos9 = velocidadInternet_anio.isnull().sum().sum()\n",
    "percent_of_nulls9 = round((registros_nulos / registros),0)\n",
    "print(names_dataframes[9],'tiene un: ',percent_of_nulls9,'% de nulos')\n"
   ]
  },
  {
   "cell_type": "code",
   "execution_count": 61,
   "metadata": {},
   "outputs": [
    {
     "name": "stdout",
     "output_type": "stream",
     "text": [
      "Acceso_internet_fijo_velocidad_bajada_localidad tiene un:  73.0 % de nulos\n"
     ]
    }
   ],
   "source": []
  },
  {
   "cell_type": "code",
   "execution_count": 62,
   "metadata": {},
   "outputs": [
    {
     "name": "stdout",
     "output_type": "stream",
     "text": [
      "Conectividad_Servicio_Internet tiene un:  0.0 % de nulos\n"
     ]
    }
   ],
   "source": []
  },
  {
   "cell_type": "code",
   "execution_count": 63,
   "metadata": {},
   "outputs": [
    {
     "name": "stdout",
     "output_type": "stream",
     "text": [
      "Internet_Accesos_por_tecnologia tiene un:  0.0 % de nulos\n"
     ]
    }
   ],
   "source": []
  },
  {
   "cell_type": "code",
   "execution_count": 64,
   "metadata": {},
   "outputs": [
    {
     "name": "stdout",
     "output_type": "stream",
     "text": [
      "Internet_Accesos_velocidad tiene un:  1.0 % de nulos\n"
     ]
    }
   ],
   "source": [
    "\n"
   ]
  },
  {
   "cell_type": "code",
   "execution_count": 65,
   "metadata": {},
   "outputs": [
    {
     "name": "stdout",
     "output_type": "stream",
     "text": [
      "Internet_BAF tiene un:  0.0 % de nulos\n"
     ]
    }
   ],
   "source": [
    "\n"
   ]
  },
  {
   "cell_type": "code",
   "execution_count": 66,
   "metadata": {},
   "outputs": [
    {
     "name": "stdout",
     "output_type": "stream",
     "text": [
      "Internet_ingresos tiene un:  0.0 % de nulos\n"
     ]
    }
   ],
   "source": [
    "\n"
   ]
  },
  {
   "cell_type": "code",
   "execution_count": 67,
   "metadata": {},
   "outputs": [
    {
     "name": "stdout",
     "output_type": "stream",
     "text": [
      "Internet_Penetracion tiene un:  0.0 % de nulos\n"
     ]
    }
   ],
   "source": []
  },
  {
   "cell_type": "code",
   "execution_count": 68,
   "metadata": {},
   "outputs": [
    {
     "name": "stdout",
     "output_type": "stream",
     "text": [
      "Listado_localidades_conectividad_internet tiene un:  0.0 % de nulos\n"
     ]
    }
   ],
   "source": [
    "\n"
   ]
  },
  {
   "cell_type": "code",
   "execution_count": 69,
   "metadata": {},
   "outputs": [
    {
     "name": "stdout",
     "output_type": "stream",
     "text": [
      "velocidadInternet_anio tiene un:  2.0 % de nulos\n"
     ]
    }
   ],
   "source": [
    "\n"
   ]
  }
 ],
 "metadata": {
  "kernelspec": {
   "display_name": "Python 3",
   "language": "python",
   "name": "python3"
  },
  "language_info": {
   "codemirror_mode": {
    "name": "ipython",
    "version": 3
   },
   "file_extension": ".py",
   "mimetype": "text/x-python",
   "name": "python",
   "nbconvert_exporter": "python",
   "pygments_lexer": "ipython3",
   "version": "3.11.3"
  },
  "orig_nbformat": 4
 },
 "nbformat": 4,
 "nbformat_minor": 2
}
